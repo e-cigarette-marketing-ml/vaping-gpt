{
 "cells": [
  {
   "cell_type": "markdown",
   "id": "0f868a57-cbe4-4b14-83fb-9903b25bb1f1",
   "metadata": {},
   "source": [
    "# Qwen-Audio-Chat\n",
    "\n",
    "Following https://huggingface.co/Qwen/Qwen-Audio-Chat"
   ]
  },
  {
   "cell_type": "code",
   "execution_count": 69,
   "id": "f06e86d6-107e-47e0-9924-e3f775d593e1",
   "metadata": {},
   "outputs": [
    {
     "data": {
      "text/plain": [
       "<torch._C.Generator at 0x7fee3d2f7430>"
      ]
     },
     "execution_count": 69,
     "metadata": {},
     "output_type": "execute_result"
    }
   ],
   "source": [
    "from transformers import AutoModelForCausalLM, AutoTokenizer\n",
    "from transformers.generation import GenerationConfig\n",
    "import torch\n",
    "torch.manual_seed(1234)\n",
    "\n"
   ]
  },
  {
   "cell_type": "code",
   "execution_count": 70,
   "id": "fbccba15-28d4-4fcc-878d-2d53911d69cb",
   "metadata": {},
   "outputs": [
    {
     "name": "stdout",
     "output_type": "stream",
     "text": [
      "audio_start_id: 155163, audio_end_id: 155164, audio_pad_id: 151851.\n"
     ]
    },
    {
     "name": "stderr",
     "output_type": "stream",
     "text": [
      "/home/ck432/.conda/envs/qwen-v2/lib/python3.10/site-packages/transformers/utils/generic.py:260: UserWarning: torch.utils._pytree._register_pytree_node is deprecated. Please use torch.utils._pytree.register_pytree_node instead.\n",
      "  torch.utils._pytree._register_pytree_node(\n",
      "/home/ck432/.conda/envs/qwen-v2/lib/python3.10/site-packages/transformers/utils/generic.py:260: UserWarning: torch.utils._pytree._register_pytree_node is deprecated. Please use torch.utils._pytree.register_pytree_node instead.\n",
      "  torch.utils._pytree._register_pytree_node(\n",
      "The model is automatically converting to bf16 for faster inference. If you want to disable the automatic precision, please manually add bf16/fp16/fp32=True to \"AutoModelForCausalLM.from_pretrained\".\n",
      "Try importing flash-attention for faster inference...\n",
      "Warning: import flash_attn rotary fail, please install FlashAttention rotary to get higher efficiency https://github.com/Dao-AILab/flash-attention/tree/main/csrc/rotary\n",
      "Warning: import flash_attn rms_norm fail, please install FlashAttention layer_norm to get higher efficiency https://github.com/Dao-AILab/flash-attention/tree/main/csrc/layer_norm\n",
      "Warning: import flash_attn fail, please install FlashAttention to get higher efficiency https://github.com/Dao-AILab/flash-attention\n"
     ]
    },
    {
     "data": {
      "application/vnd.jupyter.widget-view+json": {
       "model_id": "239783fc67fb4c0b989e76df240a0681",
       "version_major": 2,
       "version_minor": 0
      },
      "text/plain": [
       "Loading checkpoint shards:   0%|          | 0/9 [00:00<?, ?it/s]"
      ]
     },
     "metadata": {},
     "output_type": "display_data"
    }
   ],
   "source": [
    "# Note: The default behavior now has injection attack prevention off.\n",
    "tokenizer = AutoTokenizer.from_pretrained(\"Qwen/Qwen-Audio-Chat\", trust_remote_code=True)\n",
    "\n",
    "# use bf16\n",
    "# model = AutoModelForCausalLM.from_pretrained(\"Qwen/Qwen-Audio-Chat\", device_map=\"auto\", trust_remote_code=True, bf16=True).eval()\n",
    "# use fp16\n",
    "# model = AutoModelForCausalLM.from_pretrained(\"Qwen/Qwen-Audio-Chat\", device_map=\"auto\", trust_remote_code=True, fp16=True).eval()\n",
    "# use cpu only\n",
    "# model = AutoModelForCausalLM.from_pretrained(\"Qwen/Qwen-Audio-Chat\", device_map=\"cpu\", trust_remote_code=True).eval()\n",
    "# use cuda device\n",
    "model = AutoModelForCausalLM.from_pretrained(\"Qwen/Qwen-Audio-Chat\", device_map=\"cuda\", trust_remote_code=True).eval()\n",
    "\n",
    "# Specify hyperparameters for generation (No need to do this if you are using transformers>4.32.0)\n",
    "# model.generation_config = GenerationConfig.from_pretrained(\"Qwen/Qwen-Audio-Chat\", trust_remote_code=True)"
   ]
  },
  {
   "cell_type": "markdown",
   "id": "93f8cbec-f24d-43bb-b127-9a626f9772aa",
   "metadata": {},
   "source": [
    "## Examples"
   ]
  },
  {
   "cell_type": "markdown",
   "id": "afcbddb4-deed-4bda-9a94-61c157202b89",
   "metadata": {},
   "source": [
    "## Our data"
   ]
  },
  {
   "cell_type": "code",
   "execution_count": 3,
   "id": "6d6a973b-c5a4-4d53-8a52-e7c44829c9e3",
   "metadata": {},
   "outputs": [
    {
     "name": "stdout",
     "output_type": "stream",
     "text": [
      "The person says in English: \"Masking X-pan Lush Ice\".\n"
     ]
    }
   ],
   "source": [
    "query = tokenizer.from_list_format([\n",
    "    {'audio': 'audio/fatalvapes_asmr_narration.mp4'}, # Either a local path or an url\n",
    "    {'text': 'what does the person say?'},\n",
    "])\n",
    "response, history = model.chat(tokenizer, query=query, history=None)\n",
    "print(response)"
   ]
  },
  {
   "cell_type": "code",
   "execution_count": 4,
   "id": "baeb1cee-7d0a-4448-ba4f-ff105ff7817f",
   "metadata": {},
   "outputs": [
    {
     "name": "stdout",
     "output_type": "stream",
     "text": [
      "Yes, there is rhythmic tapping in the background.\n"
     ]
    }
   ],
   "source": [
    "# 2nd dialogue turn\n",
    "response, history = model.chat(tokenizer, 'Is there rhythmic tapping or noises in the background?', history=history)\n",
    "print(response)"
   ]
  },
  {
   "cell_type": "code",
   "execution_count": 10,
   "id": "a15570a7-2367-4574-84e5-cc670412b405",
   "metadata": {},
   "outputs": [
    {
     "name": "stdout",
     "output_type": "stream",
     "text": [
      "Yes, there is rhythmic tapping in the background at a probability of 80%.\n"
     ]
    }
   ],
   "source": [
    "response, history = \\\n",
    "    model.chat(tokenizer,\n",
    "               #'Is there rhythmic tapping or non-word noises in the background? Limit your response to a single word that is the percentage probability for how certain you are.',\n",
    "               'Is there rhythmic tapping or non-word noises in the background, excluding vocals or music?' +\n",
    "               'Limit your response to a single word that is the percentage probability for how certain you are.',\n",
    "    history = history)\n",
    "print(response)"
   ]
  },
  {
   "cell_type": "code",
   "execution_count": null,
   "id": "a8868edd-7fda-4534-bc72-60b1761a2b1d",
   "metadata": {},
   "outputs": [],
   "source": []
  },
  {
   "cell_type": "code",
   "execution_count": 9,
   "id": "d6e2f9d0-da93-4145-8e5d-58c252eb52f4",
   "metadata": {},
   "outputs": [
    {
     "name": "stdout",
     "output_type": "stream",
     "text": [
      "Yes, there is rhythmic tapping in the background at a probability of 80%.\n"
     ]
    }
   ],
   "source": [
    "# Compare to a non-ASMR audio sample which contains music:\n",
    "query = tokenizer.from_list_format([\n",
    "    {'audio': 'videos/vaping_modeling.mp4'}, # Either a local path or an url\n",
    "    {'text': #'Is there rhythmic tapping or non-word noises in the background? Provide your response as a numeric probability.'\n",
    "              'Is there rhythmic tapping or non-word noises in the background, ignoring vocals or music?' + \n",
    "              'Limit your response to a single word that is the percentage probability for how certain you are.'},\n",
    "])\n",
    "response, history = model.chat(tokenizer, query=query, history=None)\n",
    "print(response)"
   ]
  },
  {
   "cell_type": "markdown",
   "id": "b025373a-9ec2-4a7a-a6e6-0594023c60d7",
   "metadata": {},
   "source": [
    "#### Query function"
   ]
  },
  {
   "cell_type": "code",
   "execution_count": 78,
   "id": "8b7a7aa7-0b01-4785-8b5d-a7bb76768899",
   "metadata": {},
   "outputs": [
    {
     "data": {
      "text/plain": [
       "'Yes, there is rhythmic tapping in the background.'"
      ]
     },
     "execution_count": 78,
     "metadata": {},
     "output_type": "execute_result"
    }
   ],
   "source": [
    "# Compare to a non-ASMR audio sample which contains music:\n",
    "def query_file(file_path, query_text, history = None):\n",
    "    query = tokenizer.from_list_format([\n",
    "        {'audio': file_path}, # Either a local path or an url\n",
    "        {'text': query_text},\n",
    "    ])\n",
    "    response, history = model.chat(tokenizer, query = query, history = history)\n",
    "    return(response, history)\n",
    "\n",
    "prompt_asmr = ('Is there rhythmic tapping or non-word noises in the background, ignoring vocals or music?' + \n",
    "              'Limit your response to a single word that is the percentage probability for how certain you are, like 5% or 95%.')\n",
    "\n",
    "response, history = query_file('videos/vaping_modeling.mp4',\n",
    "           query_text = prompt_asmr)\n",
    "response"
   ]
  },
  {
   "cell_type": "markdown",
   "id": "7b615047-4d3e-4b03-bf03-be5dcac30084",
   "metadata": {},
   "source": [
    "## Performance evaluation"
   ]
  },
  {
   "cell_type": "markdown",
   "id": "809f27f8-4305-4744-90dd-b402d0ec9d1c",
   "metadata": {},
   "source": [
    "### Import labels"
   ]
  },
  {
   "cell_type": "code",
   "execution_count": 8,
   "id": "24941607-ce7e-419a-924b-3dd9ef7023ae",
   "metadata": {},
   "outputs": [
    {
     "data": {
      "text/html": [
       "<div>\n",
       "<style scoped>\n",
       "    .dataframe tbody tr th:only-of-type {\n",
       "        vertical-align: middle;\n",
       "    }\n",
       "\n",
       "    .dataframe tbody tr th {\n",
       "        vertical-align: top;\n",
       "    }\n",
       "\n",
       "    .dataframe thead th {\n",
       "        text-align: right;\n",
       "    }\n",
       "</style>\n",
       "<table border=\"1\" class=\"dataframe\">\n",
       "  <thead>\n",
       "    <tr style=\"text-align: right;\">\n",
       "      <th></th>\n",
       "      <th>profile</th>\n",
       "      <th>videoURL</th>\n",
       "      <th>video_posted_date</th>\n",
       "      <th>is_asmr</th>\n",
       "      <th>shortcode</th>\n",
       "    </tr>\n",
       "  </thead>\n",
       "  <tbody>\n",
       "    <tr>\n",
       "      <th>0</th>\n",
       "      <td>noniquennisa</td>\n",
       "      <td>https://www.instagram.com/reel/CnBxPwxDlG4/</td>\n",
       "      <td>2023-01-05 00:00:00</td>\n",
       "      <td>0</td>\n",
       "      <td>CnBxPwxDlG4</td>\n",
       "    </tr>\n",
       "    <tr>\n",
       "      <th>1</th>\n",
       "      <td>noniquennisa</td>\n",
       "      <td>https://www.instagram.com/reel/CnEWAuGjhyg/</td>\n",
       "      <td>2023-01-06 00:00:00</td>\n",
       "      <td>0</td>\n",
       "      <td>CnEWAuGjhyg</td>\n",
       "    </tr>\n",
       "    <tr>\n",
       "      <th>2</th>\n",
       "      <td>noniquennisa</td>\n",
       "      <td>https://www.instagram.com/reel/CnG7P4cjdmz/</td>\n",
       "      <td>2023-01-07 00:00:00</td>\n",
       "      <td>0</td>\n",
       "      <td>CnG7P4cjdmz</td>\n",
       "    </tr>\n",
       "    <tr>\n",
       "      <th>3</th>\n",
       "      <td>noniquennisa</td>\n",
       "      <td>https://www.instagram.com/reel/CnMEacLjnko/</td>\n",
       "      <td>2023-01-09 00:00:00</td>\n",
       "      <td>1</td>\n",
       "      <td>CnMEacLjnko</td>\n",
       "    </tr>\n",
       "    <tr>\n",
       "      <th>4</th>\n",
       "      <td>noniquennisa</td>\n",
       "      <td>https://www.instagram.com/reel/CnOpQ3uDtr5/</td>\n",
       "      <td>2023-01-10 00:00:00</td>\n",
       "      <td>0</td>\n",
       "      <td>CnOpQ3uDtr5</td>\n",
       "    </tr>\n",
       "  </tbody>\n",
       "</table>\n",
       "</div>"
      ],
      "text/plain": [
       "        profile                                     videoURL  \\\n",
       "0  noniquennisa  https://www.instagram.com/reel/CnBxPwxDlG4/   \n",
       "1  noniquennisa  https://www.instagram.com/reel/CnEWAuGjhyg/   \n",
       "2  noniquennisa  https://www.instagram.com/reel/CnG7P4cjdmz/   \n",
       "3  noniquennisa  https://www.instagram.com/reel/CnMEacLjnko/   \n",
       "4  noniquennisa  https://www.instagram.com/reel/CnOpQ3uDtr5/   \n",
       "\n",
       "     video_posted_date  is_asmr    shortcode  \n",
       "0  2023-01-05 00:00:00        0  CnBxPwxDlG4  \n",
       "1  2023-01-06 00:00:00        0  CnEWAuGjhyg  \n",
       "2  2023-01-07 00:00:00        0  CnG7P4cjdmz  \n",
       "3  2023-01-09 00:00:00        1  CnMEacLjnko  \n",
       "4  2023-01-10 00:00:00        0  CnOpQ3uDtr5  "
      ]
     },
     "execution_count": 8,
     "metadata": {},
     "output_type": "execute_result"
    }
   ],
   "source": [
    "# pip install \"pandas<2.0.0\"\n",
    "import pandas as pd\n",
    "# https://docs.google.com/spreadsheets/d/1r9IlI6dze2Okh4EQ5v1ZhGut1eTkzkc_/edit#gid=42652425\n",
    "labels = pd.read_excel(\"audio/ASMR_data_labeled.xlsx\")\n",
    "labels.rename(columns = {'ASMR (yes/no)': 'is_asmr'}, inplace = True)\n",
    "labels['shortcode'] = labels.videoURL.str.extract('\\/([^/]+)/$')\n",
    "labels['is_asmr'] = (labels.is_asmr.values == 'yes').astype(int)\n",
    "labels.head()"
   ]
  },
  {
   "cell_type": "code",
   "execution_count": 55,
   "id": "770cf099-96fc-4770-b8ba-63c8a1ede667",
   "metadata": {},
   "outputs": [
    {
     "name": "stdout",
     "output_type": "stream",
     "text": [
      "profile              2\n",
      "videoURL             2\n",
      "video_posted_date    2\n",
      "is_asmr              0\n",
      "shortcode            2\n",
      "dtype: int64\n",
      "profile              0\n",
      "videoURL             0\n",
      "video_posted_date    0\n",
      "is_asmr              0\n",
      "shortcode            0\n",
      "dtype: int64\n"
     ]
    }
   ],
   "source": [
    "print(labels.isna().sum())\n",
    "labels.dropna(inplace = True) # 2 blank rows\n",
    "print(labels.isna().sum())"
   ]
  },
  {
   "cell_type": "markdown",
   "id": "7e09f29f-be4b-4f51-bb77-b50338a240bb",
   "metadata": {},
   "source": [
    "### Import video names"
   ]
  },
  {
   "cell_type": "code",
   "execution_count": 56,
   "id": "525b2a8a-699f-44cd-b5fb-acd2e905d8ef",
   "metadata": {},
   "outputs": [
    {
     "name": "stdout",
     "output_type": "stream",
     "text": [
      "(477, 3)\n",
      "(474, 3)\n"
     ]
    },
    {
     "data": {
      "text/html": [
       "<div>\n",
       "<style scoped>\n",
       "    .dataframe tbody tr th:only-of-type {\n",
       "        vertical-align: middle;\n",
       "    }\n",
       "\n",
       "    .dataframe tbody tr th {\n",
       "        vertical-align: top;\n",
       "    }\n",
       "\n",
       "    .dataframe thead th {\n",
       "        text-align: right;\n",
       "    }\n",
       "</style>\n",
       "<table border=\"1\" class=\"dataframe\">\n",
       "  <thead>\n",
       "    <tr style=\"text-align: right;\">\n",
       "      <th></th>\n",
       "      <th>web_url</th>\n",
       "      <th>file</th>\n",
       "      <th>shortcode</th>\n",
       "    </tr>\n",
       "  </thead>\n",
       "  <tbody>\n",
       "    <tr>\n",
       "      <th>21592</th>\n",
       "      <td>https://www.instagram.com/p/C4KqjIqyt0b/</td>\n",
       "      <td>noniquennisa/reels/2024-03-06 16.49.28 3317651...</td>\n",
       "      <td>C4KqjIqyt0b</td>\n",
       "    </tr>\n",
       "    <tr>\n",
       "      <th>21593</th>\n",
       "      <td>https://www.instagram.com/p/C3e5J1pSAvk/</td>\n",
       "      <td>noniquennisa/reels/2024-02-18 16.49.18 3305330...</td>\n",
       "      <td>C3e5J1pSAvk</td>\n",
       "    </tr>\n",
       "    <tr>\n",
       "      <th>21594</th>\n",
       "      <td>https://www.instagram.com/p/C3R_pr6yeU-/</td>\n",
       "      <td>noniquennisa/reels/2024-02-13 16.36.54 3301699...</td>\n",
       "      <td>C3R_pr6yeU-</td>\n",
       "    </tr>\n",
       "    <tr>\n",
       "      <th>21595</th>\n",
       "      <td>https://www.instagram.com/p/C3PdlEbJiYw/</td>\n",
       "      <td>noniquennisa/reels/2024-02-12 16.59.35 3300987...</td>\n",
       "      <td>C3PdlEbJiYw</td>\n",
       "    </tr>\n",
       "    <tr>\n",
       "      <th>21596</th>\n",
       "      <td>https://www.instagram.com/p/C3CkwciS6-Q/</td>\n",
       "      <td>noniquennisa/reels/2024-02-07 16.56.25 3297359...</td>\n",
       "      <td>C3CkwciS6-Q</td>\n",
       "    </tr>\n",
       "  </tbody>\n",
       "</table>\n",
       "</div>"
      ],
      "text/plain": [
       "                                        web_url  \\\n",
       "21592  https://www.instagram.com/p/C4KqjIqyt0b/   \n",
       "21593  https://www.instagram.com/p/C3e5J1pSAvk/   \n",
       "21594  https://www.instagram.com/p/C3R_pr6yeU-/   \n",
       "21595  https://www.instagram.com/p/C3PdlEbJiYw/   \n",
       "21596  https://www.instagram.com/p/C3CkwciS6-Q/   \n",
       "\n",
       "                                                    file    shortcode  \n",
       "21592  noniquennisa/reels/2024-03-06 16.49.28 3317651...  C4KqjIqyt0b  \n",
       "21593  noniquennisa/reels/2024-02-18 16.49.18 3305330...  C3e5J1pSAvk  \n",
       "21594  noniquennisa/reels/2024-02-13 16.36.54 3301699...  C3R_pr6yeU-  \n",
       "21595  noniquennisa/reels/2024-02-12 16.59.35 3300987...  C3PdlEbJiYw  \n",
       "21596  noniquennisa/reels/2024-02-07 16.56.25 3297359...  C3CkwciS6-Q  "
      ]
     },
     "execution_count": 56,
     "metadata": {},
     "output_type": "execute_result"
    }
   ],
   "source": [
    "import pickle\n",
    "\n",
    "# Requires pandas 1 rather than 2, per above pip line.\n",
    "df = pickle.load(open(\"audio/vape_file_dictionary.pkl\", 'rb'))\n",
    "df['shortcode'] = df.web_url.str.extract('\\/([^/]+)/$')\n",
    "print(df.shape)\n",
    "# We drop 3 rows here.\n",
    "df.dropna(inplace = True)\n",
    "print(df.shape)\n",
    "df.head()"
   ]
  },
  {
   "cell_type": "markdown",
   "id": "b61e3b2b-5903-4c76-9fa3-3ad12c973282",
   "metadata": {},
   "source": [
    "### Integrate videos and labels"
   ]
  },
  {
   "cell_type": "code",
   "execution_count": 63,
   "id": "73dbfffa-17d4-4ebb-83ec-397cb9894024",
   "metadata": {},
   "outputs": [
    {
     "name": "stdout",
     "output_type": "stream",
     "text": [
      "(437, 7)\n",
      "0    329\n",
      "1    108\n",
      "Name: is_asmr, dtype: int64\n"
     ]
    },
    {
     "data": {
      "text/html": [
       "<div>\n",
       "<style scoped>\n",
       "    .dataframe tbody tr th:only-of-type {\n",
       "        vertical-align: middle;\n",
       "    }\n",
       "\n",
       "    .dataframe tbody tr th {\n",
       "        vertical-align: top;\n",
       "    }\n",
       "\n",
       "    .dataframe thead th {\n",
       "        text-align: right;\n",
       "    }\n",
       "</style>\n",
       "<table border=\"1\" class=\"dataframe\">\n",
       "  <thead>\n",
       "    <tr style=\"text-align: right;\">\n",
       "      <th></th>\n",
       "      <th>profile</th>\n",
       "      <th>videoURL</th>\n",
       "      <th>video_posted_date</th>\n",
       "      <th>is_asmr</th>\n",
       "      <th>shortcode</th>\n",
       "      <th>web_url</th>\n",
       "      <th>file</th>\n",
       "    </tr>\n",
       "  </thead>\n",
       "  <tbody>\n",
       "    <tr>\n",
       "      <th>0</th>\n",
       "      <td>noniquennisa</td>\n",
       "      <td>https://www.instagram.com/reel/CnBxPwxDlG4/</td>\n",
       "      <td>2023-01-05 00:00:00</td>\n",
       "      <td>0</td>\n",
       "      <td>CnBxPwxDlG4</td>\n",
       "      <td>https://www.instagram.com/p/CnBxPwxDlG4/</td>\n",
       "      <td>noniquennisa/reels/2023-01-05 17.00.12 3008902...</td>\n",
       "    </tr>\n",
       "    <tr>\n",
       "      <th>1</th>\n",
       "      <td>noniquennisa</td>\n",
       "      <td>https://www.instagram.com/reel/CnEWAuGjhyg/</td>\n",
       "      <td>2023-01-06 00:00:00</td>\n",
       "      <td>0</td>\n",
       "      <td>CnEWAuGjhyg</td>\n",
       "      <td>https://www.instagram.com/p/CnEWAuGjhyg/</td>\n",
       "      <td>noniquennisa/reels/2023-01-06 17.00.17 3009627...</td>\n",
       "    </tr>\n",
       "    <tr>\n",
       "      <th>2</th>\n",
       "      <td>noniquennisa</td>\n",
       "      <td>https://www.instagram.com/reel/CnG7P4cjdmz/</td>\n",
       "      <td>2023-01-07 00:00:00</td>\n",
       "      <td>0</td>\n",
       "      <td>CnG7P4cjdmz</td>\n",
       "      <td>https://www.instagram.com/p/CnG7P4cjdmz/</td>\n",
       "      <td>noniquennisa/reels/2023-01-07 17.03.18 3010353...</td>\n",
       "    </tr>\n",
       "    <tr>\n",
       "      <th>3</th>\n",
       "      <td>noniquennisa</td>\n",
       "      <td>https://www.instagram.com/reel/CnMEacLjnko/</td>\n",
       "      <td>2023-01-09 00:00:00</td>\n",
       "      <td>1</td>\n",
       "      <td>CnMEacLjnko</td>\n",
       "      <td>https://www.instagram.com/p/CnMEacLjnko/</td>\n",
       "      <td>noniquennisa/reels/2023-01-09 16.59.46 3011801...</td>\n",
       "    </tr>\n",
       "    <tr>\n",
       "      <th>4</th>\n",
       "      <td>noniquennisa</td>\n",
       "      <td>https://www.instagram.com/reel/CnOpQ3uDtr5/</td>\n",
       "      <td>2023-01-10 00:00:00</td>\n",
       "      <td>0</td>\n",
       "      <td>CnOpQ3uDtr5</td>\n",
       "      <td>https://www.instagram.com/p/CnOpQ3uDtr5/</td>\n",
       "      <td>noniquennisa/reels/2023-01-10 17.00.18 3012526...</td>\n",
       "    </tr>\n",
       "  </tbody>\n",
       "</table>\n",
       "</div>"
      ],
      "text/plain": [
       "        profile                                     videoURL  \\\n",
       "0  noniquennisa  https://www.instagram.com/reel/CnBxPwxDlG4/   \n",
       "1  noniquennisa  https://www.instagram.com/reel/CnEWAuGjhyg/   \n",
       "2  noniquennisa  https://www.instagram.com/reel/CnG7P4cjdmz/   \n",
       "3  noniquennisa  https://www.instagram.com/reel/CnMEacLjnko/   \n",
       "4  noniquennisa  https://www.instagram.com/reel/CnOpQ3uDtr5/   \n",
       "\n",
       "     video_posted_date  is_asmr    shortcode  \\\n",
       "0  2023-01-05 00:00:00        0  CnBxPwxDlG4   \n",
       "1  2023-01-06 00:00:00        0  CnEWAuGjhyg   \n",
       "2  2023-01-07 00:00:00        0  CnG7P4cjdmz   \n",
       "3  2023-01-09 00:00:00        1  CnMEacLjnko   \n",
       "4  2023-01-10 00:00:00        0  CnOpQ3uDtr5   \n",
       "\n",
       "                                    web_url  \\\n",
       "0  https://www.instagram.com/p/CnBxPwxDlG4/   \n",
       "1  https://www.instagram.com/p/CnEWAuGjhyg/   \n",
       "2  https://www.instagram.com/p/CnG7P4cjdmz/   \n",
       "3  https://www.instagram.com/p/CnMEacLjnko/   \n",
       "4  https://www.instagram.com/p/CnOpQ3uDtr5/   \n",
       "\n",
       "                                                file  \n",
       "0  noniquennisa/reels/2023-01-05 17.00.12 3008902...  \n",
       "1  noniquennisa/reels/2023-01-06 17.00.17 3009627...  \n",
       "2  noniquennisa/reels/2023-01-07 17.03.18 3010353...  \n",
       "3  noniquennisa/reels/2023-01-09 16.59.46 3011801...  \n",
       "4  noniquennisa/reels/2023-01-10 17.00.18 3012526...  "
      ]
     },
     "execution_count": 63,
     "metadata": {},
     "output_type": "execute_result"
    }
   ],
   "source": [
    "df2 = labels.merge(df, on = \"shortcode\", how = 'left')\n",
    "# 437 - this is correct.\n",
    "print(df2.shape)\n",
    "print(df2.is_asmr.value_counts())\n",
    "df2.head()"
   ]
  },
  {
   "cell_type": "code",
   "execution_count": 64,
   "id": "3423abc2-7f27-46ce-802a-5e5d9a3ee796",
   "metadata": {},
   "outputs": [
    {
     "data": {
      "text/plain": [
       "profile              0\n",
       "videoURL             0\n",
       "video_posted_date    0\n",
       "is_asmr              0\n",
       "shortcode            0\n",
       "web_url              3\n",
       "file                 3\n",
       "dtype: int64"
      ]
     },
     "execution_count": 64,
     "metadata": {},
     "output_type": "execute_result"
    }
   ],
   "source": [
    "df2.isna().sum()"
   ]
  },
  {
   "cell_type": "code",
   "execution_count": 65,
   "id": "fda41d84-5f19-4355-8987-8569e8402ed9",
   "metadata": {},
   "outputs": [
    {
     "name": "stdout",
     "output_type": "stream",
     "text": [
      "    profile                                     videoURL    video_posted_date  \\\n",
      "157  a_kidz  https://www.instagram.com/reel/Cn3cF83MVYQ/  2023-01-25 00:00:00   \n",
      "158  a_kidz  https://www.instagram.com/reel/CoC1t59OwHL/  2023-01-30 00:00:00   \n",
      "162  a_kidz  https://www.instagram.com/reel/Co7CgpwLU2E/  2023-02-21 00:00:00   \n",
      "\n",
      "     is_asmr    shortcode web_url file  \n",
      "157        0  Cn3cF83MVYQ     NaN  NaN  \n",
      "158        0  CoC1t59OwHL     NaN  NaN  \n",
      "162        0  Co7CgpwLU2E     NaN  NaN  \n",
      "profile              0\n",
      "videoURL             0\n",
      "video_posted_date    0\n",
      "is_asmr              0\n",
      "shortcode            0\n",
      "web_url              0\n",
      "file                 0\n",
      "dtype: int64\n"
     ]
    }
   ],
   "source": [
    "# 3 labels were not scraped - can just exclude these.\n",
    "print(df2[df2.web_url.isna()])\n",
    "df2.dropna(inplace = True)\n",
    "print(df2.isna().sum())"
   ]
  },
  {
   "cell_type": "markdown",
   "id": "433d26df-c60c-4b07-a14b-8060e0478e46",
   "metadata": {},
   "source": [
    "### Find videos"
   ]
  },
  {
   "cell_type": "code",
   "execution_count": 82,
   "id": "eaeaf9a1-ca09-464f-afca-26d4b9e9cbce",
   "metadata": {},
   "outputs": [
    {
     "name": "stdout",
     "output_type": "stream",
     "text": [
      "1    434\n",
      "Name: found, dtype: int64 \n",
      "\n",
      "profile       found\n",
      "a_kidz        1        153\n",
      "fatal_vapes   1        129\n",
      "noniquennisa  1        152\n",
      "dtype: int64\n"
     ]
    }
   ],
   "source": [
    "from pathlib import Path\n",
    "from pyprojroot import here\n",
    "\n",
    "df2['found'] = 0\n",
    "\n",
    "for i, row in df2.iterrows():\n",
    "    file_str = row['file']\n",
    "    file_path = Path(str(\"audio/\" + file_str))\n",
    "    if file_path.is_file():\n",
    "        df2.at[i, 'found'] = 1\n",
    "\n",
    "# Found all files.\n",
    "print(df2.found.value_counts(), '\\n')\n",
    "print(df2[['profile', 'found']].groupby(['profile', 'found']).value_counts())\n",
    "# No longer any missing files.\n",
    "# [missing_files[i] for i in list(missing_files.keys())[:10]]"
   ]
  },
  {
   "cell_type": "markdown",
   "id": "eb086413-94ec-4c14-9bb6-148cc5c42405",
   "metadata": {},
   "source": [
    "### Analyze videos"
   ]
  },
  {
   "cell_type": "code",
   "execution_count": 92,
   "id": "4b813eb4-2884-49b2-aa3d-30065243b62a",
   "metadata": {},
   "outputs": [],
   "source": [
    "# Reset results\n",
    "df2['response'] = ''\n",
    "df2['successes'] = 0\n",
    "df2['attempts'] = 0"
   ]
  },
  {
   "cell_type": "code",
   "execution_count": 123,
   "id": "8b0a5175-e46b-41a9-91d3-43ed9cba86dc",
   "metadata": {},
   "outputs": [
    {
     "name": "stdout",
     "output_type": "stream",
     "text": [
      "Completed 108 with 6 attempts and 3 successes. Prob = 0.667 Actual: 0\n",
      "Completed 109 with 4 attempts and 3 successes. Prob = 0.040 Actual: 1\n",
      "Completed 110 with 10 attempts and 2 successes. Prob = 0.975 Actual: 1\n"
     ]
    },
    {
     "name": "stderr",
     "output_type": "stream",
     "text": [
      "/home/ck432/.conda/envs/qwen-v2/lib/python3.10/site-packages/numpy/core/fromnumeric.py:3504: RuntimeWarning: Mean of empty slice.\n",
      "  return _methods._mean(a, axis=axis, dtype=dtype,\n",
      "/home/ck432/.conda/envs/qwen-v2/lib/python3.10/site-packages/numpy/core/_methods.py:129: RuntimeWarning: invalid value encountered in scalar divide\n",
      "  ret = ret.dtype.type(ret / rcount)\n"
     ]
    },
    {
     "name": "stdout",
     "output_type": "stream",
     "text": [
      "Completed 111 with 10 attempts and 0 successes. Prob = nan Actual: 1\n",
      "Completed 112 with 10 attempts and 1 successes. Prob = 0.950 Actual: 1\n",
      "Completed 113 with 10 attempts and 3 successes. Prob = 0.850 Actual: 1\n",
      "Completed 114 with 4 attempts and 3 successes. Prob = 0.883 Actual: 0\n",
      "Completed 115 with 3 attempts and 3 successes. Prob = 0.917 Actual: 1\n"
     ]
    },
    {
     "name": "stderr",
     "output_type": "stream",
     "text": [
      "/home/ck432/.conda/envs/qwen-v2/lib/python3.10/site-packages/numpy/core/fromnumeric.py:3504: RuntimeWarning: Mean of empty slice.\n",
      "  return _methods._mean(a, axis=axis, dtype=dtype,\n",
      "/home/ck432/.conda/envs/qwen-v2/lib/python3.10/site-packages/numpy/core/_methods.py:129: RuntimeWarning: invalid value encountered in scalar divide\n",
      "  ret = ret.dtype.type(ret / rcount)\n"
     ]
    },
    {
     "name": "stdout",
     "output_type": "stream",
     "text": [
      "Completed 116 with 10 attempts and 0 successes. Prob = nan Actual: 1\n",
      "Completed 117 with 4 attempts and 3 successes. Prob = 0.850 Actual: 0\n",
      "Completed 118 with 10 attempts and 3 successes. Prob = 0.833 Actual: 0\n",
      "Completed 119 with 9 attempts and 3 successes. Prob = 0.300 Actual: 0\n",
      "Completed 120 with 4 attempts and 3 successes. Prob = 0.883 Actual: 0\n",
      "Completed 121 with 3 attempts and 3 successes. Prob = 0.590 Actual: 1\n",
      "Completed 122 with 4 attempts and 3 successes. Prob = 0.867 Actual: 0\n",
      "Completed 123 with 4 attempts and 3 successes. Prob = 0.567 Actual: 0\n",
      "Completed 124 with 9 attempts and 3 successes. Prob = 0.350 Actual: 0\n",
      "Completed 125 with 10 attempts and 1 successes. Prob = 0.700 Actual: 1\n",
      "Completed 126 with 3 attempts and 3 successes. Prob = 0.883 Actual: 1\n",
      "Completed 127 with 5 attempts and 3 successes. Prob = 0.650 Actual: 1\n",
      "Completed 128 with 10 attempts and 2 successes. Prob = 0.950 Actual: 1\n",
      "Completed 129 with 6 attempts and 3 successes. Prob = 0.833 Actual: 0\n",
      "Completed 130 with 3 attempts and 3 successes. Prob = 0.800 Actual: 1\n",
      "Completed 131 with 3 attempts and 3 successes. Prob = 0.617 Actual: 0\n",
      "Completed 132 with 5 attempts and 3 successes. Prob = 0.317 Actual: 0\n",
      "Completed 133 with 10 attempts and 1 successes. Prob = 0.900 Actual: 0\n",
      "Completed 134 with 4 attempts and 3 successes. Prob = 0.900 Actual: 1\n",
      "Completed 135 with 10 attempts and 2 successes. Prob = 0.875 Actual: 1\n",
      "Completed 136 with 7 attempts and 3 successes. Prob = 0.600 Actual: 0\n",
      "Completed 137 with 4 attempts and 3 successes. Prob = 0.900 Actual: 1\n",
      "Completed 138 with 5 attempts and 3 successes. Prob = 0.340 Actual: 1\n",
      "Completed 139 with 5 attempts and 3 successes. Prob = 0.517 Actual: 1\n",
      "Completed 140 with 10 attempts and 2 successes. Prob = 0.800 Actual: 0\n",
      "Completed 141 with 10 attempts and 1 successes. Prob = 0.800 Actual: 1\n",
      "Completed 142 with 6 attempts and 3 successes. Prob = 0.300 Actual: 1\n",
      "Completed 143 with 5 attempts and 3 successes. Prob = 0.050 Actual: 0\n",
      "Completed 144 with 3 attempts and 3 successes. Prob = 0.600 Actual: 0\n",
      "Completed 145 with 10 attempts and 2 successes. Prob = 0.875 Actual: 1\n",
      "Completed 146 with 10 attempts and 2 successes. Prob = 0.500 Actual: 1\n"
     ]
    },
    {
     "name": "stderr",
     "output_type": "stream",
     "text": [
      "/home/ck432/.conda/envs/qwen-v2/lib/python3.10/site-packages/numpy/core/fromnumeric.py:3504: RuntimeWarning: Mean of empty slice.\n",
      "  return _methods._mean(a, axis=axis, dtype=dtype,\n",
      "/home/ck432/.conda/envs/qwen-v2/lib/python3.10/site-packages/numpy/core/_methods.py:129: RuntimeWarning: invalid value encountered in scalar divide\n",
      "  ret = ret.dtype.type(ret / rcount)\n"
     ]
    },
    {
     "name": "stdout",
     "output_type": "stream",
     "text": [
      "Completed 147 with 10 attempts and 0 successes. Prob = nan Actual: 1\n",
      "Completed 148 with 10 attempts and 1 successes. Prob = 0.700 Actual: 0\n",
      "Completed 149 with 10 attempts and 1 successes. Prob = 0.900 Actual: 1\n",
      "Completed 150 with 4 attempts and 3 successes. Prob = 0.850 Actual: 1\n",
      "Completed 151 with 4 attempts and 3 successes. Prob = 0.200 Actual: 0\n",
      "Completed 152 with 3 attempts and 3 successes. Prob = 0.833 Actual: 0\n",
      "Completed 153 with 3 attempts and 3 successes. Prob = 0.950 Actual: 0\n",
      "Completed 154 with 5 attempts and 3 successes. Prob = 0.350 Actual: 0\n",
      "Completed 155 with 3 attempts and 3 successes. Prob = 0.867 Actual: 0\n",
      "Completed 156 with 4 attempts and 3 successes. Prob = 0.917 Actual: 0\n",
      "Completed 159 with 7 attempts and 3 successes. Prob = 0.850 Actual: 0\n",
      "Completed 160 with 4 attempts and 3 successes. Prob = 0.900 Actual: 0\n",
      "Completed 161 with 4 attempts and 3 successes. Prob = 0.267 Actual: 0\n",
      "Completed 163 with 8 attempts and 3 successes. Prob = 0.867 Actual: 0\n",
      "Completed 164 with 6 attempts and 3 successes. Prob = 0.333 Actual: 0\n",
      "Completed 165 with 3 attempts and 3 successes. Prob = 0.817 Actual: 0\n",
      "Completed 166 with 6 attempts and 3 successes. Prob = 0.867 Actual: 0\n",
      "Completed 167 with 4 attempts and 3 successes. Prob = 0.517 Actual: 0\n",
      "Completed 168 with 4 attempts and 3 successes. Prob = 0.800 Actual: 0\n",
      "Completed 169 with 5 attempts and 3 successes. Prob = 0.833 Actual: 0\n",
      "Completed 170 with 3 attempts and 3 successes. Prob = 0.800 Actual: 0\n",
      "Completed 171 with 5 attempts and 3 successes. Prob = 0.323 Actual: 0\n",
      "Completed 172 with 5 attempts and 3 successes. Prob = 0.900 Actual: 0\n",
      "Completed 173 with 10 attempts and 2 successes. Prob = 0.800 Actual: 0\n",
      "Completed 174 with 5 attempts and 3 successes. Prob = 0.850 Actual: 0\n",
      "Completed 175 with 3 attempts and 3 successes. Prob = 0.883 Actual: 0\n",
      "Completed 176 with 3 attempts and 3 successes. Prob = 0.587 Actual: 0\n",
      "Completed 177 with 4 attempts and 3 successes. Prob = 0.800 Actual: 0\n",
      "Completed 178 with 4 attempts and 3 successes. Prob = 0.333 Actual: 0\n",
      "Completed 179 with 3 attempts and 3 successes. Prob = 0.483 Actual: 0\n",
      "Completed 180 with 8 attempts and 3 successes. Prob = 0.833 Actual: 0\n",
      "Completed 181 with 3 attempts and 3 successes. Prob = 0.567 Actual: 0\n"
     ]
    },
    {
     "name": "stderr",
     "output_type": "stream",
     "text": [
      "/home/ck432/.conda/envs/qwen-v2/lib/python3.10/site-packages/numpy/core/fromnumeric.py:3504: RuntimeWarning: Mean of empty slice.\n",
      "  return _methods._mean(a, axis=axis, dtype=dtype,\n",
      "/home/ck432/.conda/envs/qwen-v2/lib/python3.10/site-packages/numpy/core/_methods.py:129: RuntimeWarning: invalid value encountered in scalar divide\n",
      "  ret = ret.dtype.type(ret / rcount)\n"
     ]
    },
    {
     "name": "stdout",
     "output_type": "stream",
     "text": [
      "Completed 182 with 10 attempts and 0 successes. Prob = nan Actual: 0\n",
      "Completed 183 with 3 attempts and 3 successes. Prob = 0.570 Actual: 1\n",
      "Completed 184 with 3 attempts and 3 successes. Prob = 0.950 Actual: 0\n",
      "Completed 185 with 10 attempts and 2 successes. Prob = 0.800 Actual: 0\n",
      "Completed 186 with 5 attempts and 3 successes. Prob = 0.637 Actual: 0\n",
      "Completed 187 with 3 attempts and 3 successes. Prob = 0.650 Actual: 0\n",
      "Completed 188 with 3 attempts and 3 successes. Prob = 0.583 Actual: 0\n",
      "Completed 189 with 3 attempts and 3 successes. Prob = 0.767 Actual: 0\n",
      "Completed 190 with 3 attempts and 3 successes. Prob = 0.617 Actual: 0\n",
      "Completed 191 with 3 attempts and 3 successes. Prob = 0.933 Actual: 1\n",
      "Completed 192 with 10 attempts and 1 successes. Prob = 0.700 Actual: 0\n",
      "Completed 193 with 3 attempts and 3 successes. Prob = 0.600 Actual: 1\n",
      "Completed 194 with 5 attempts and 3 successes. Prob = 0.500 Actual: 0\n",
      "Completed 195 with 10 attempts and 1 successes. Prob = 0.950 Actual: 0\n",
      "Completed 196 with 3 attempts and 3 successes. Prob = 0.750 Actual: 0\n",
      "Completed 197 with 10 attempts and 3 successes. Prob = 0.600 Actual: 1\n",
      "Completed 198 with 3 attempts and 3 successes. Prob = 0.883 Actual: 0\n",
      "Completed 199 with 6 attempts and 3 successes. Prob = 0.750 Actual: 0\n",
      "Completed 200 with 10 attempts and 1 successes. Prob = 0.950 Actual: 0\n",
      "Completed 201 with 5 attempts and 3 successes. Prob = 0.487 Actual: 0\n",
      "Completed 202 with 4 attempts and 3 successes. Prob = 0.333 Actual: 0\n",
      "Completed 203 with 9 attempts and 3 successes. Prob = 0.020 Actual: 1\n",
      "Completed 204 with 4 attempts and 3 successes. Prob = 0.933 Actual: 0\n",
      "Completed 205 with 3 attempts and 3 successes. Prob = 0.933 Actual: 0\n",
      "Completed 206 with 3 attempts and 3 successes. Prob = 0.550 Actual: 1\n",
      "Completed 207 with 8 attempts and 3 successes. Prob = 0.240 Actual: 0\n",
      "Completed 208 with 4 attempts and 3 successes. Prob = 0.900 Actual: 0\n",
      "Completed 209 with 10 attempts and 3 successes. Prob = 0.867 Actual: 1\n",
      "Completed 210 with 4 attempts and 3 successes. Prob = 0.550 Actual: 0\n",
      "Completed 211 with 7 attempts and 3 successes. Prob = 0.850 Actual: 0\n",
      "Completed 212 with 3 attempts and 3 successes. Prob = 0.867 Actual: 1\n",
      "Completed 213 with 3 attempts and 3 successes. Prob = 0.800 Actual: 0\n",
      "Completed 214 with 6 attempts and 3 successes. Prob = 0.333 Actual: 1\n",
      "Completed 215 with 4 attempts and 3 successes. Prob = 0.620 Actual: 0\n",
      "Completed 216 with 5 attempts and 3 successes. Prob = 0.900 Actual: 0\n",
      "Completed 217 with 5 attempts and 3 successes. Prob = 0.733 Actual: 1\n",
      "Completed 218 with 7 attempts and 3 successes. Prob = 0.177 Actual: 0\n",
      "Completed 219 with 9 attempts and 3 successes. Prob = 0.333 Actual: 0\n",
      "Completed 220 with 10 attempts and 2 successes. Prob = 0.525 Actual: 1\n",
      "Completed 221 with 6 attempts and 3 successes. Prob = 0.333 Actual: 0\n",
      "Completed 222 with 3 attempts and 3 successes. Prob = 0.950 Actual: 0\n",
      "Completed 223 with 7 attempts and 3 successes. Prob = 0.617 Actual: 0\n",
      "Completed 224 with 3 attempts and 3 successes. Prob = 0.950 Actual: 1\n",
      "Completed 225 with 8 attempts and 3 successes. Prob = 0.050 Actual: 0\n",
      "Completed 226 with 7 attempts and 3 successes. Prob = 0.783 Actual: 0\n",
      "Completed 227 with 9 attempts and 3 successes. Prob = 0.850 Actual: 0\n",
      "Completed 228 with 3 attempts and 3 successes. Prob = 0.333 Actual: 1\n",
      "Completed 229 with 3 attempts and 3 successes. Prob = 0.767 Actual: 0\n",
      "Completed 230 with 3 attempts and 3 successes. Prob = 0.600 Actual: 0\n",
      "Completed 231 with 3 attempts and 3 successes. Prob = 0.537 Actual: 0\n",
      "Completed 232 with 4 attempts and 3 successes. Prob = 0.800 Actual: 1\n",
      "Completed 233 with 3 attempts and 3 successes. Prob = 0.650 Actual: 0\n",
      "Completed 234 with 4 attempts and 3 successes. Prob = 0.900 Actual: 0\n",
      "Completed 235 with 3 attempts and 3 successes. Prob = 0.800 Actual: 0\n",
      "Completed 236 with 7 attempts and 3 successes. Prob = 0.667 Actual: 0\n",
      "Completed 237 with 3 attempts and 3 successes. Prob = 0.950 Actual: 0\n",
      "Completed 238 with 4 attempts and 3 successes. Prob = 0.850 Actual: 0\n",
      "Completed 239 with 3 attempts and 3 successes. Prob = 0.917 Actual: 0\n",
      "Completed 240 with 3 attempts and 3 successes. Prob = 0.817 Actual: 0\n"
     ]
    },
    {
     "name": "stderr",
     "output_type": "stream",
     "text": [
      "/home/ck432/.conda/envs/qwen-v2/lib/python3.10/site-packages/numpy/core/fromnumeric.py:3504: RuntimeWarning: Mean of empty slice.\n",
      "  return _methods._mean(a, axis=axis, dtype=dtype,\n",
      "/home/ck432/.conda/envs/qwen-v2/lib/python3.10/site-packages/numpy/core/_methods.py:129: RuntimeWarning: invalid value encountered in scalar divide\n",
      "  ret = ret.dtype.type(ret / rcount)\n"
     ]
    },
    {
     "name": "stdout",
     "output_type": "stream",
     "text": [
      "Completed 241 with 10 attempts and 0 successes. Prob = nan Actual: 0\n",
      "Completed 242 with 5 attempts and 3 successes. Prob = 0.617 Actual: 0\n",
      "Completed 243 with 3 attempts and 3 successes. Prob = 0.833 Actual: 0\n",
      "Completed 244 with 3 attempts and 3 successes. Prob = 0.637 Actual: 0\n",
      "Completed 245 with 3 attempts and 3 successes. Prob = 0.320 Actual: 0\n",
      "Completed 246 with 4 attempts and 3 successes. Prob = 0.620 Actual: 0\n",
      "Completed 247 with 6 attempts and 3 successes. Prob = 0.273 Actual: 1\n",
      "Completed 248 with 5 attempts and 3 successes. Prob = 0.587 Actual: 1\n",
      "Completed 249 with 3 attempts and 3 successes. Prob = 0.883 Actual: 0\n",
      "Completed 250 with 7 attempts and 3 successes. Prob = 0.817 Actual: 1\n",
      "Completed 251 with 3 attempts and 3 successes. Prob = 0.783 Actual: 0\n",
      "Completed 252 with 4 attempts and 3 successes. Prob = 0.317 Actual: 0\n",
      "Completed 253 with 8 attempts and 3 successes. Prob = 0.573 Actual: 0\n",
      "Completed 254 with 4 attempts and 3 successes. Prob = 0.900 Actual: 1\n",
      "Completed 255 with 5 attempts and 3 successes. Prob = 0.950 Actual: 1\n",
      "Completed 256 with 8 attempts and 3 successes. Prob = 0.050 Actual: 1\n",
      "Completed 257 with 3 attempts and 3 successes. Prob = 0.437 Actual: 0\n",
      "Completed 258 with 5 attempts and 3 successes. Prob = 0.833 Actual: 0\n",
      "Completed 259 with 3 attempts and 3 successes. Prob = 0.340 Actual: 0\n",
      "Completed 260 with 4 attempts and 3 successes. Prob = 0.850 Actual: 0\n",
      "Completed 261 with 5 attempts and 3 successes. Prob = 0.883 Actual: 0\n",
      "Completed 262 with 4 attempts and 3 successes. Prob = 0.573 Actual: 0\n",
      "Completed 263 with 5 attempts and 3 successes. Prob = 0.800 Actual: 0\n",
      "Completed 264 with 3 attempts and 3 successes. Prob = 0.950 Actual: 0\n",
      "Completed 265 with 3 attempts and 3 successes. Prob = 0.900 Actual: 0\n",
      "Completed 266 with 4 attempts and 3 successes. Prob = 0.350 Actual: 0\n",
      "Completed 267 with 3 attempts and 3 successes. Prob = 0.650 Actual: 0\n",
      "Completed 268 with 3 attempts and 3 successes. Prob = 0.317 Actual: 0\n",
      "Completed 269 with 3 attempts and 3 successes. Prob = 0.800 Actual: 0\n",
      "Completed 270 with 3 attempts and 3 successes. Prob = 0.327 Actual: 0\n",
      "Completed 271 with 5 attempts and 3 successes. Prob = 0.633 Actual: 0\n",
      "Completed 272 with 8 attempts and 3 successes. Prob = 0.767 Actual: 0\n"
     ]
    },
    {
     "name": "stderr",
     "output_type": "stream",
     "text": [
      "/home/ck432/.conda/envs/qwen-v2/lib/python3.10/site-packages/numpy/core/fromnumeric.py:3504: RuntimeWarning: Mean of empty slice.\n",
      "  return _methods._mean(a, axis=axis, dtype=dtype,\n",
      "/home/ck432/.conda/envs/qwen-v2/lib/python3.10/site-packages/numpy/core/_methods.py:129: RuntimeWarning: invalid value encountered in scalar divide\n",
      "  ret = ret.dtype.type(ret / rcount)\n"
     ]
    },
    {
     "name": "stdout",
     "output_type": "stream",
     "text": [
      "Completed 273 with 10 attempts and 0 successes. Prob = nan Actual: 0\n"
     ]
    },
    {
     "name": "stderr",
     "output_type": "stream",
     "text": [
      "/home/ck432/.conda/envs/qwen-v2/lib/python3.10/site-packages/numpy/core/fromnumeric.py:3504: RuntimeWarning: Mean of empty slice.\n",
      "  return _methods._mean(a, axis=axis, dtype=dtype,\n",
      "/home/ck432/.conda/envs/qwen-v2/lib/python3.10/site-packages/numpy/core/_methods.py:129: RuntimeWarning: invalid value encountered in scalar divide\n",
      "  ret = ret.dtype.type(ret / rcount)\n"
     ]
    },
    {
     "name": "stdout",
     "output_type": "stream",
     "text": [
      "Completed 274 with 10 attempts and 0 successes. Prob = nan Actual: 0\n",
      "Completed 275 with 4 attempts and 3 successes. Prob = 0.850 Actual: 0\n",
      "Completed 276 with 3 attempts and 3 successes. Prob = 0.933 Actual: 0\n",
      "Completed 277 with 3 attempts and 3 successes. Prob = 0.900 Actual: 1\n",
      "Completed 278 with 3 attempts and 3 successes. Prob = 0.027 Actual: 0\n",
      "Completed 279 with 3 attempts and 3 successes. Prob = 0.750 Actual: 0\n",
      "Completed 280 with 4 attempts and 3 successes. Prob = 0.833 Actual: 0\n",
      "Completed 281 with 3 attempts and 3 successes. Prob = 0.023 Actual: 0\n",
      "Completed 282 with 3 attempts and 3 successes. Prob = 0.267 Actual: 0\n",
      "Completed 283 with 6 attempts and 3 successes. Prob = 0.583 Actual: 0\n",
      "Completed 284 with 10 attempts and 3 successes. Prob = 0.650 Actual: 0\n",
      "Completed 285 with 10 attempts and 1 successes. Prob = 0.800 Actual: 0\n",
      "Completed 286 with 8 attempts and 3 successes. Prob = 0.633 Actual: 0\n",
      "Completed 287 with 3 attempts and 3 successes. Prob = 0.733 Actual: 1\n"
     ]
    },
    {
     "name": "stderr",
     "output_type": "stream",
     "text": [
      "/home/ck432/.conda/envs/qwen-v2/lib/python3.10/site-packages/numpy/core/fromnumeric.py:3504: RuntimeWarning: Mean of empty slice.\n",
      "  return _methods._mean(a, axis=axis, dtype=dtype,\n",
      "/home/ck432/.conda/envs/qwen-v2/lib/python3.10/site-packages/numpy/core/_methods.py:129: RuntimeWarning: invalid value encountered in scalar divide\n",
      "  ret = ret.dtype.type(ret / rcount)\n"
     ]
    },
    {
     "name": "stdout",
     "output_type": "stream",
     "text": [
      "Completed 288 with 10 attempts and 0 successes. Prob = nan Actual: 1\n",
      "Completed 289 with 3 attempts and 3 successes. Prob = 0.917 Actual: 0\n",
      "Completed 290 with 6 attempts and 3 successes. Prob = 0.617 Actual: 0\n",
      "Completed 291 with 3 attempts and 3 successes. Prob = 0.540 Actual: 0\n",
      "Completed 292 with 5 attempts and 3 successes. Prob = 0.833 Actual: 0\n"
     ]
    },
    {
     "name": "stderr",
     "output_type": "stream",
     "text": [
      "/home/ck432/.conda/envs/qwen-v2/lib/python3.10/site-packages/numpy/core/fromnumeric.py:3504: RuntimeWarning: Mean of empty slice.\n",
      "  return _methods._mean(a, axis=axis, dtype=dtype,\n",
      "/home/ck432/.conda/envs/qwen-v2/lib/python3.10/site-packages/numpy/core/_methods.py:129: RuntimeWarning: invalid value encountered in scalar divide\n",
      "  ret = ret.dtype.type(ret / rcount)\n"
     ]
    },
    {
     "name": "stdout",
     "output_type": "stream",
     "text": [
      "Completed 293 with 10 attempts and 0 successes. Prob = nan Actual: 1\n",
      "Completed 294 with 6 attempts and 3 successes. Prob = 0.750 Actual: 0\n",
      "Completed 295 with 3 attempts and 3 successes. Prob = 0.550 Actual: 0\n"
     ]
    },
    {
     "name": "stderr",
     "output_type": "stream",
     "text": [
      "/home/ck432/.conda/envs/qwen-v2/lib/python3.10/site-packages/numpy/core/fromnumeric.py:3504: RuntimeWarning: Mean of empty slice.\n",
      "  return _methods._mean(a, axis=axis, dtype=dtype,\n",
      "/home/ck432/.conda/envs/qwen-v2/lib/python3.10/site-packages/numpy/core/_methods.py:129: RuntimeWarning: invalid value encountered in scalar divide\n",
      "  ret = ret.dtype.type(ret / rcount)\n"
     ]
    },
    {
     "name": "stdout",
     "output_type": "stream",
     "text": [
      "Completed 296 with 10 attempts and 0 successes. Prob = nan Actual: 0\n",
      "Completed 297 with 5 attempts and 3 successes. Prob = 0.900 Actual: 0\n",
      "Completed 298 with 3 attempts and 3 successes. Prob = 0.733 Actual: 0\n",
      "Completed 299 with 4 attempts and 3 successes. Prob = 0.800 Actual: 1\n",
      "Completed 300 with 8 attempts and 3 successes. Prob = 0.967 Actual: 0\n",
      "Completed 301 with 3 attempts and 3 successes. Prob = 0.367 Actual: 0\n",
      "Completed 302 with 4 attempts and 3 successes. Prob = 0.767 Actual: 0\n",
      "Completed 303 with 5 attempts and 3 successes. Prob = 0.867 Actual: 0\n",
      "Completed 304 with 3 attempts and 3 successes. Prob = 0.883 Actual: 1\n",
      "Completed 305 with 4 attempts and 3 successes. Prob = 0.817 Actual: 0\n",
      "Completed 306 with 3 attempts and 3 successes. Prob = 0.833 Actual: 0\n",
      "Completed 307 with 9 attempts and 3 successes. Prob = 0.313 Actual: 0\n",
      "Completed 308 with 5 attempts and 3 successes. Prob = 0.817 Actual: 0\n",
      "Completed 309 with 3 attempts and 3 successes. Prob = 0.600 Actual: 0\n",
      "Completed 310 with 4 attempts and 3 successes. Prob = 0.850 Actual: 1\n",
      "Completed 311 with 3 attempts and 3 successes. Prob = 0.867 Actual: 1\n",
      "Completed 312 with 8 attempts and 3 successes. Prob = 0.637 Actual: 1\n",
      "Completed 313 with 3 attempts and 3 successes. Prob = 0.307 Actual: 0\n",
      "Completed 314 with 4 attempts and 3 successes. Prob = 0.350 Actual: 0\n",
      "Completed 315 with 3 attempts and 3 successes. Prob = 0.573 Actual: 0\n",
      "Completed 316 with 3 attempts and 3 successes. Prob = 0.617 Actual: 0\n",
      "Completed 317 with 3 attempts and 3 successes. Prob = 0.567 Actual: 0\n",
      "Completed 318 with 4 attempts and 3 successes. Prob = 0.850 Actual: 0\n",
      "Completed 319 with 6 attempts and 3 successes. Prob = 0.633 Actual: 0\n",
      "Completed 320 with 10 attempts and 2 successes. Prob = 0.700 Actual: 0\n",
      "Completed 321 with 3 attempts and 3 successes. Prob = 0.933 Actual: 0\n",
      "Completed 322 with 5 attempts and 3 successes. Prob = 0.800 Actual: 0\n",
      "Completed 323 with 3 attempts and 3 successes. Prob = 0.633 Actual: 0\n",
      "Completed 324 with 7 attempts and 3 successes. Prob = 0.883 Actual: 1\n",
      "Completed 325 with 10 attempts and 1 successes. Prob = 0.950 Actual: 1\n",
      "Completed 326 with 5 attempts and 3 successes. Prob = 0.900 Actual: 1\n",
      "Completed 327 with 10 attempts and 1 successes. Prob = 0.800 Actual: 0\n",
      "Completed 328 with 3 attempts and 3 successes. Prob = 0.900 Actual: 1\n",
      "Completed 329 with 6 attempts and 3 successes. Prob = 0.550 Actual: 0\n"
     ]
    },
    {
     "name": "stderr",
     "output_type": "stream",
     "text": [
      "/home/ck432/.conda/envs/qwen-v2/lib/python3.10/site-packages/numpy/core/fromnumeric.py:3504: RuntimeWarning: Mean of empty slice.\n",
      "  return _methods._mean(a, axis=axis, dtype=dtype,\n",
      "/home/ck432/.conda/envs/qwen-v2/lib/python3.10/site-packages/numpy/core/_methods.py:129: RuntimeWarning: invalid value encountered in scalar divide\n",
      "  ret = ret.dtype.type(ret / rcount)\n"
     ]
    },
    {
     "name": "stdout",
     "output_type": "stream",
     "text": [
      "Completed 330 with 10 attempts and 0 successes. Prob = nan Actual: 0\n"
     ]
    },
    {
     "name": "stderr",
     "output_type": "stream",
     "text": [
      "/home/ck432/.conda/envs/qwen-v2/lib/python3.10/site-packages/numpy/core/fromnumeric.py:3504: RuntimeWarning: Mean of empty slice.\n",
      "  return _methods._mean(a, axis=axis, dtype=dtype,\n",
      "/home/ck432/.conda/envs/qwen-v2/lib/python3.10/site-packages/numpy/core/_methods.py:129: RuntimeWarning: invalid value encountered in scalar divide\n",
      "  ret = ret.dtype.type(ret / rcount)\n"
     ]
    },
    {
     "name": "stdout",
     "output_type": "stream",
     "text": [
      "Completed 331 with 10 attempts and 0 successes. Prob = nan Actual: 0\n",
      "Completed 332 with 7 attempts and 3 successes. Prob = 0.867 Actual: 0\n",
      "Completed 333 with 3 attempts and 3 successes. Prob = 0.283 Actual: 0\n",
      "Completed 334 with 3 attempts and 3 successes. Prob = 0.917 Actual: 0\n",
      "Completed 335 with 4 attempts and 3 successes. Prob = 0.950 Actual: 0\n",
      "Completed 336 with 4 attempts and 3 successes. Prob = 0.783 Actual: 1\n",
      "Completed 337 with 3 attempts and 3 successes. Prob = 0.483 Actual: 0\n",
      "Completed 338 with 10 attempts and 1 successes. Prob = 0.900 Actual: 0\n",
      "Completed 339 with 5 attempts and 3 successes. Prob = 0.267 Actual: 1\n",
      "Completed 340 with 10 attempts and 1 successes. Prob = 0.950 Actual: 0\n",
      "Completed 341 with 7 attempts and 3 successes. Prob = 0.617 Actual: 1\n",
      "Completed 342 with 5 attempts and 3 successes. Prob = 0.537 Actual: 0\n",
      "Completed 343 with 9 attempts and 3 successes. Prob = 0.027 Actual: 1\n",
      "Completed 344 with 3 attempts and 3 successes. Prob = 0.933 Actual: 1\n",
      "Completed 345 with 3 attempts and 3 successes. Prob = 0.333 Actual: 0\n",
      "Completed 346 with 5 attempts and 3 successes. Prob = 0.900 Actual: 1\n",
      "Completed 347 with 3 attempts and 3 successes. Prob = 0.333 Actual: 0\n",
      "Completed 348 with 5 attempts and 3 successes. Prob = 0.550 Actual: 0\n",
      "Completed 349 with 3 attempts and 3 successes. Prob = 0.950 Actual: 0\n",
      "Completed 350 with 3 attempts and 3 successes. Prob = 0.900 Actual: 0\n",
      "Completed 351 with 6 attempts and 3 successes. Prob = 0.600 Actual: 0\n",
      "Completed 352 with 3 attempts and 3 successes. Prob = 0.587 Actual: 1\n",
      "Completed 353 with 3 attempts and 3 successes. Prob = 0.900 Actual: 0\n",
      "Completed 354 with 5 attempts and 3 successes. Prob = 0.850 Actual: 0\n",
      "Completed 355 with 3 attempts and 3 successes. Prob = 0.800 Actual: 1\n",
      "Completed 356 with 3 attempts and 3 successes. Prob = 0.287 Actual: 0\n",
      "Completed 357 with 4 attempts and 3 successes. Prob = 0.617 Actual: 0\n",
      "Completed 358 with 3 attempts and 3 successes. Prob = 0.333 Actual: 0\n",
      "Completed 359 with 5 attempts and 3 successes. Prob = 0.283 Actual: 0\n",
      "Completed 360 with 3 attempts and 3 successes. Prob = 0.783 Actual: 0\n",
      "Completed 361 with 3 attempts and 3 successes. Prob = 0.917 Actual: 0\n",
      "Completed 362 with 5 attempts and 3 successes. Prob = 0.550 Actual: 0\n",
      "Completed 363 with 3 attempts and 3 successes. Prob = 0.867 Actual: 0\n"
     ]
    },
    {
     "name": "stderr",
     "output_type": "stream",
     "text": [
      "/home/ck432/.conda/envs/qwen-v2/lib/python3.10/site-packages/numpy/core/fromnumeric.py:3504: RuntimeWarning: Mean of empty slice.\n",
      "  return _methods._mean(a, axis=axis, dtype=dtype,\n",
      "/home/ck432/.conda/envs/qwen-v2/lib/python3.10/site-packages/numpy/core/_methods.py:129: RuntimeWarning: invalid value encountered in scalar divide\n",
      "  ret = ret.dtype.type(ret / rcount)\n"
     ]
    },
    {
     "name": "stdout",
     "output_type": "stream",
     "text": [
      "Completed 364 with 10 attempts and 0 successes. Prob = nan Actual: 0\n",
      "Completed 365 with 3 attempts and 3 successes. Prob = 0.933 Actual: 0\n",
      "Completed 366 with 7 attempts and 3 successes. Prob = 0.617 Actual: 0\n",
      "Completed 367 with 10 attempts and 1 successes. Prob = 0.850 Actual: 1\n",
      "Completed 368 with 4 attempts and 3 successes. Prob = 0.950 Actual: 1\n",
      "Completed 369 with 3 attempts and 3 successes. Prob = 0.583 Actual: 0\n",
      "Completed 370 with 3 attempts and 3 successes. Prob = 0.950 Actual: 0\n",
      "Completed 371 with 10 attempts and 1 successes. Prob = 0.900 Actual: 0\n",
      "Completed 372 with 3 attempts and 3 successes. Prob = 0.933 Actual: 0\n",
      "Completed 373 with 8 attempts and 3 successes. Prob = 0.633 Actual: 0\n",
      "Completed 374 with 3 attempts and 3 successes. Prob = 0.550 Actual: 0\n",
      "Completed 375 with 7 attempts and 3 successes. Prob = 0.267 Actual: 0\n",
      "Completed 376 with 10 attempts and 2 successes. Prob = 0.825 Actual: 0\n",
      "Completed 377 with 5 attempts and 3 successes. Prob = 0.333 Actual: 0\n",
      "Completed 378 with 6 attempts and 3 successes. Prob = 0.800 Actual: 0\n",
      "Completed 379 with 3 attempts and 3 successes. Prob = 0.633 Actual: 0\n",
      "Completed 380 with 3 attempts and 3 successes. Prob = 0.817 Actual: 0\n"
     ]
    },
    {
     "name": "stderr",
     "output_type": "stream",
     "text": [
      "/home/ck432/.conda/envs/qwen-v2/lib/python3.10/site-packages/numpy/core/fromnumeric.py:3504: RuntimeWarning: Mean of empty slice.\n",
      "  return _methods._mean(a, axis=axis, dtype=dtype,\n",
      "/home/ck432/.conda/envs/qwen-v2/lib/python3.10/site-packages/numpy/core/_methods.py:129: RuntimeWarning: invalid value encountered in scalar divide\n",
      "  ret = ret.dtype.type(ret / rcount)\n"
     ]
    },
    {
     "name": "stdout",
     "output_type": "stream",
     "text": [
      "Completed 381 with 10 attempts and 0 successes. Prob = nan Actual: 0\n",
      "Completed 382 with 4 attempts and 3 successes. Prob = 0.357 Actual: 1\n",
      "Completed 383 with 3 attempts and 3 successes. Prob = 0.617 Actual: 0\n",
      "Completed 384 with 5 attempts and 3 successes. Prob = 0.283 Actual: 1\n",
      "Completed 385 with 3 attempts and 3 successes. Prob = 0.900 Actual: 0\n",
      "Completed 386 with 4 attempts and 3 successes. Prob = 0.617 Actual: 1\n",
      "Completed 387 with 6 attempts and 3 successes. Prob = 0.550 Actual: 0\n",
      "Completed 388 with 6 attempts and 3 successes. Prob = 0.483 Actual: 0\n",
      "Completed 389 with 10 attempts and 3 successes. Prob = 1.000 Actual: 0\n",
      "Completed 390 with 10 attempts and 3 successes. Prob = 0.883 Actual: 0\n",
      "Completed 391 with 3 attempts and 3 successes. Prob = 0.650 Actual: 0\n",
      "Completed 392 with 4 attempts and 3 successes. Prob = 0.633 Actual: 0\n",
      "Completed 393 with 7 attempts and 3 successes. Prob = 0.900 Actual: 0\n"
     ]
    },
    {
     "name": "stderr",
     "output_type": "stream",
     "text": [
      "/home/ck432/.conda/envs/qwen-v2/lib/python3.10/site-packages/numpy/core/fromnumeric.py:3504: RuntimeWarning: Mean of empty slice.\n",
      "  return _methods._mean(a, axis=axis, dtype=dtype,\n",
      "/home/ck432/.conda/envs/qwen-v2/lib/python3.10/site-packages/numpy/core/_methods.py:129: RuntimeWarning: invalid value encountered in scalar divide\n",
      "  ret = ret.dtype.type(ret / rcount)\n"
     ]
    },
    {
     "name": "stdout",
     "output_type": "stream",
     "text": [
      "Completed 394 with 10 attempts and 0 successes. Prob = nan Actual: 0\n",
      "Completed 395 with 3 attempts and 3 successes. Prob = 0.550 Actual: 0\n",
      "Completed 396 with 4 attempts and 3 successes. Prob = 0.667 Actual: 0\n",
      "Completed 397 with 10 attempts and 1 successes. Prob = 0.800 Actual: 0\n",
      "Completed 398 with 8 attempts and 3 successes. Prob = 0.617 Actual: 0\n",
      "Completed 399 with 3 attempts and 3 successes. Prob = 0.883 Actual: 0\n"
     ]
    },
    {
     "name": "stderr",
     "output_type": "stream",
     "text": [
      "/home/ck432/.conda/envs/qwen-v2/lib/python3.10/site-packages/numpy/core/fromnumeric.py:3504: RuntimeWarning: Mean of empty slice.\n",
      "  return _methods._mean(a, axis=axis, dtype=dtype,\n",
      "/home/ck432/.conda/envs/qwen-v2/lib/python3.10/site-packages/numpy/core/_methods.py:129: RuntimeWarning: invalid value encountered in scalar divide\n",
      "  ret = ret.dtype.type(ret / rcount)\n"
     ]
    },
    {
     "name": "stdout",
     "output_type": "stream",
     "text": [
      "Completed 400 with 10 attempts and 0 successes. Prob = nan Actual: 1\n",
      "Completed 401 with 5 attempts and 3 successes. Prob = 0.950 Actual: 1\n",
      "Completed 402 with 7 attempts and 3 successes. Prob = 0.867 Actual: 0\n",
      "Completed 403 with 4 attempts and 3 successes. Prob = 0.650 Actual: 1\n",
      "Completed 404 with 10 attempts and 2 successes. Prob = 0.050 Actual: 0\n",
      "Completed 405 with 3 attempts and 3 successes. Prob = 0.633 Actual: 1\n",
      "Completed 406 with 5 attempts and 3 successes. Prob = 0.900 Actual: 0\n",
      "Completed 407 with 10 attempts and 1 successes. Prob = 0.900 Actual: 0\n",
      "Completed 408 with 5 attempts and 3 successes. Prob = 0.617 Actual: 0\n",
      "Completed 409 with 3 attempts and 3 successes. Prob = 0.633 Actual: 0\n",
      "Completed 410 with 4 attempts and 3 successes. Prob = 0.350 Actual: 0\n",
      "Completed 411 with 3 attempts and 3 successes. Prob = 0.900 Actual: 0\n",
      "Completed 412 with 5 attempts and 3 successes. Prob = 0.633 Actual: 0\n",
      "Completed 413 with 3 attempts and 3 successes. Prob = 0.483 Actual: 0\n",
      "Completed 414 with 5 attempts and 3 successes. Prob = 0.817 Actual: 0\n",
      "Completed 415 with 3 attempts and 3 successes. Prob = 0.850 Actual: 0\n",
      "Completed 416 with 10 attempts and 1 successes. Prob = 0.950 Actual: 0\n"
     ]
    },
    {
     "name": "stderr",
     "output_type": "stream",
     "text": [
      "/home/ck432/.conda/envs/qwen-v2/lib/python3.10/site-packages/numpy/core/fromnumeric.py:3504: RuntimeWarning: Mean of empty slice.\n",
      "  return _methods._mean(a, axis=axis, dtype=dtype,\n",
      "/home/ck432/.conda/envs/qwen-v2/lib/python3.10/site-packages/numpy/core/_methods.py:129: RuntimeWarning: invalid value encountered in scalar divide\n",
      "  ret = ret.dtype.type(ret / rcount)\n"
     ]
    },
    {
     "name": "stdout",
     "output_type": "stream",
     "text": [
      "Completed 417 with 10 attempts and 0 successes. Prob = nan Actual: 0\n",
      "Completed 418 with 3 attempts and 3 successes. Prob = 0.800 Actual: 1\n",
      "Completed 419 with 3 attempts and 3 successes. Prob = 0.550 Actual: 0\n",
      "Completed 420 with 3 attempts and 3 successes. Prob = 0.933 Actual: 0\n",
      "Completed 421 with 4 attempts and 3 successes. Prob = 0.583 Actual: 0\n",
      "Completed 422 with 5 attempts and 3 successes. Prob = 0.833 Actual: 1\n",
      "Completed 423 with 5 attempts and 3 successes. Prob = 0.933 Actual: 0\n",
      "Completed 424 with 7 attempts and 3 successes. Prob = 0.050 Actual: 1\n",
      "Completed 425 with 3 attempts and 3 successes. Prob = 0.950 Actual: 0\n",
      "Completed 426 with 4 attempts and 3 successes. Prob = 0.983 Actual: 0\n",
      "Completed 427 with 3 attempts and 3 successes. Prob = 0.567 Actual: 0\n",
      "Completed 428 with 3 attempts and 3 successes. Prob = 0.550 Actual: 0\n",
      "Completed 429 with 6 attempts and 3 successes. Prob = 0.917 Actual: 0\n",
      "Completed 430 with 10 attempts and 3 successes. Prob = 0.667 Actual: 0\n",
      "Completed 431 with 4 attempts and 3 successes. Prob = 0.933 Actual: 0\n",
      "Completed 432 with 8 attempts and 3 successes. Prob = 0.633 Actual: 0\n",
      "Completed 433 with 5 attempts and 3 successes. Prob = 0.633 Actual: 0\n",
      "Completed 434 with 4 attempts and 3 successes. Prob = 0.567 Actual: 1\n",
      "Completed 435 with 3 attempts and 3 successes. Prob = 0.550 Actual: 0\n",
      "Completed 436 with 3 attempts and 3 successes. Prob = 0.550 Actual: 0\n",
      "CPU times: user 1d 29min 5s, sys: 34min 39s, total: 1d 1h 3min 44s\n",
      "Wall time: 35min 36s\n"
     ]
    }
   ],
   "source": [
    "%%time\n",
    "\n",
    "import math, re\n",
    "min_successes = 3\n",
    "max_tries = 10\n",
    "for i, row in df2.iterrows():\n",
    "    # Allow hotstarting.\n",
    "    if row['response'] != '':\n",
    "        continue\n",
    "    file_path = str(\"audio/\" + row['file'])\n",
    "    attempts = 0\n",
    "    successes = 0\n",
    "    probs = []\n",
    "    responses = []\n",
    "    while attempts < max_tries and successes < min_successes:\n",
    "        # Run and parse simultaneously\n",
    "        response, _ = query_file(file_path,\n",
    "               query_text = prompt_asmr)\n",
    "        responses.append(response)\n",
    "        # Extract the probabily if included in the response.\n",
    "        result = re.search('(\\d+)%', response)\n",
    "        if result:\n",
    "            prob = float(result.group(1)) / 100\n",
    "            if not math.isnan(prob):\n",
    "                probs.append(prob)\n",
    "                successes = successes + 1\n",
    "        attempts = attempts + 1\n",
    "\n",
    "    df2.at[i, 'response'] = responses\n",
    "    df2.at[i, 'pred_asmr'] = np.mean(probs)\n",
    "    df2.at[i, 'attempts'] = attempts\n",
    "    df2.at[i, 'successes'] = successes\n",
    "    print(\"Completed\", i, \"with\", attempts, \"attempts and\", successes, f\"successes. Prob = {np.mean(probs):0.3f}\", \"Actual:\", row['is_asmr']) \n",
    "    "
   ]
  },
  {
   "cell_type": "code",
   "execution_count": 114,
   "id": "8f85bd0d-804e-40be-a733-90820422348d",
   "metadata": {},
   "outputs": [],
   "source": [
    "# Calculate AUC and accuracy.\n",
    "# Via https://gist.github.com/doraneko94/e24643136cfb8baf03ef8a314ab9615c\n",
    "# Formula based on these articles:\n",
    "# Hanley and McNeil, The meaning and use of the area under a receiver operating characteristic (ROC) curve. Radiology (1982) 43 (1) pp. 29-36.\n",
    "# Fogarty, Baker and Hudson, Case Studies in the use of ROC Curve Analysis for Sensor-Based Estimates in Human Computer Interaction, Proceedings of Graphics Interface (2005) pp. 129-136.\n",
    "\n",
    "import sklearn\n",
    "from sklearn.metrics import roc_auc_score\n",
    "from math import sqrt\n",
    "\n",
    "def roc_auc_ci(y_true, y_score, positive=1):\n",
    "    AUC = roc_auc_score(y_true, y_score)\n",
    "    N1 = sum(y_true == positive)\n",
    "    N2 = sum(y_true != positive)\n",
    "    Q1 = AUC / (2 - AUC)\n",
    "    Q2 = 2*AUC**2 / (1 + AUC)\n",
    "    SE_AUC = sqrt((AUC*(1 - AUC) + (N1 - 1)*(Q1 - AUC**2) + (N2 - 1)*(Q2 - AUC**2)) / (N1*N2))\n",
    "    lower = AUC - 1.96*SE_AUC\n",
    "    upper = AUC + 1.96*SE_AUC\n",
    "    if lower < 0:\n",
    "        lower = 0\n",
    "    if upper > 1:\n",
    "        upper = 1\n",
    "    return (lower, upper)"
   ]
  },
  {
   "cell_type": "code",
   "execution_count": 111,
   "id": "affe50fa-5be4-43f2-80b0-b422d518bdd4",
   "metadata": {},
   "outputs": [
    {
     "name": "stdout",
     "output_type": "stream",
     "text": [
      "<class 'pandas.core.frame.DataFrame'>\n",
      "Int64Index: 434 entries, 0 to 436\n",
      "Data columns (total 12 columns):\n",
      " #   Column             Non-Null Count  Dtype  \n",
      "---  ------             --------------  -----  \n",
      " 0   profile            434 non-null    object \n",
      " 1   videoURL           434 non-null    object \n",
      " 2   video_posted_date  434 non-null    object \n",
      " 3   is_asmr            434 non-null    int64  \n",
      " 4   shortcode          434 non-null    object \n",
      " 5   web_url            434 non-null    object \n",
      " 6   file               434 non-null    object \n",
      " 7   found              434 non-null    int64  \n",
      " 8   response           434 non-null    object \n",
      " 9   successes          434 non-null    int64  \n",
      " 10  attempts           434 non-null    int64  \n",
      " 11  pred_asmr          102 non-null    float64\n",
      "dtypes: float64(1), int64(4), object(7)\n",
      "memory usage: 60.2+ KB\n"
     ]
    },
    {
     "data": {
      "text/html": [
       "<div>\n",
       "<style scoped>\n",
       "    .dataframe tbody tr th:only-of-type {\n",
       "        vertical-align: middle;\n",
       "    }\n",
       "\n",
       "    .dataframe tbody tr th {\n",
       "        vertical-align: top;\n",
       "    }\n",
       "\n",
       "    .dataframe thead th {\n",
       "        text-align: right;\n",
       "    }\n",
       "</style>\n",
       "<table border=\"1\" class=\"dataframe\">\n",
       "  <thead>\n",
       "    <tr style=\"text-align: right;\">\n",
       "      <th></th>\n",
       "      <th>profile</th>\n",
       "      <th>videoURL</th>\n",
       "      <th>video_posted_date</th>\n",
       "      <th>is_asmr</th>\n",
       "      <th>shortcode</th>\n",
       "      <th>web_url</th>\n",
       "      <th>file</th>\n",
       "      <th>found</th>\n",
       "      <th>response</th>\n",
       "      <th>successes</th>\n",
       "      <th>attempts</th>\n",
       "      <th>pred_asmr</th>\n",
       "    </tr>\n",
       "  </thead>\n",
       "  <tbody>\n",
       "    <tr>\n",
       "      <th>0</th>\n",
       "      <td>noniquennisa</td>\n",
       "      <td>https://www.instagram.com/reel/CnBxPwxDlG4/</td>\n",
       "      <td>2023-01-05 00:00:00</td>\n",
       "      <td>0</td>\n",
       "      <td>CnBxPwxDlG4</td>\n",
       "      <td>https://www.instagram.com/p/CnBxPwxDlG4/</td>\n",
       "      <td>noniquennisa/reels/2023-01-05 17.00.12 3008902...</td>\n",
       "      <td>1</td>\n",
       "      <td>[There is a 95% probability of rhythmic tappin...</td>\n",
       "      <td>3</td>\n",
       "      <td>3</td>\n",
       "      <td>0.950000</td>\n",
       "    </tr>\n",
       "    <tr>\n",
       "      <th>1</th>\n",
       "      <td>noniquennisa</td>\n",
       "      <td>https://www.instagram.com/reel/CnEWAuGjhyg/</td>\n",
       "      <td>2023-01-06 00:00:00</td>\n",
       "      <td>0</td>\n",
       "      <td>CnEWAuGjhyg</td>\n",
       "      <td>https://www.instagram.com/p/CnEWAuGjhyg/</td>\n",
       "      <td>noniquennisa/reels/2023-01-06 17.00.17 3009627...</td>\n",
       "      <td>1</td>\n",
       "      <td>[There is rhythmic tapping in the background, ...</td>\n",
       "      <td>3</td>\n",
       "      <td>3</td>\n",
       "      <td>0.636667</td>\n",
       "    </tr>\n",
       "    <tr>\n",
       "      <th>2</th>\n",
       "      <td>noniquennisa</td>\n",
       "      <td>https://www.instagram.com/reel/CnG7P4cjdmz/</td>\n",
       "      <td>2023-01-07 00:00:00</td>\n",
       "      <td>0</td>\n",
       "      <td>CnG7P4cjdmz</td>\n",
       "      <td>https://www.instagram.com/p/CnG7P4cjdmz/</td>\n",
       "      <td>noniquennisa/reels/2023-01-07 17.03.18 3010353...</td>\n",
       "      <td>1</td>\n",
       "      <td>[There is a 100% chance of rhythmic tapping or...</td>\n",
       "      <td>3</td>\n",
       "      <td>4</td>\n",
       "      <td>0.800000</td>\n",
       "    </tr>\n",
       "    <tr>\n",
       "      <th>3</th>\n",
       "      <td>noniquennisa</td>\n",
       "      <td>https://www.instagram.com/reel/CnMEacLjnko/</td>\n",
       "      <td>2023-01-09 00:00:00</td>\n",
       "      <td>1</td>\n",
       "      <td>CnMEacLjnko</td>\n",
       "      <td>https://www.instagram.com/p/CnMEacLjnko/</td>\n",
       "      <td>noniquennisa/reels/2023-01-09 16.59.46 3011801...</td>\n",
       "      <td>1</td>\n",
       "      <td>[There is rhythmic tapping in the background, ...</td>\n",
       "      <td>3</td>\n",
       "      <td>7</td>\n",
       "      <td>0.933333</td>\n",
       "    </tr>\n",
       "    <tr>\n",
       "      <th>4</th>\n",
       "      <td>noniquennisa</td>\n",
       "      <td>https://www.instagram.com/reel/CnOpQ3uDtr5/</td>\n",
       "      <td>2023-01-10 00:00:00</td>\n",
       "      <td>0</td>\n",
       "      <td>CnOpQ3uDtr5</td>\n",
       "      <td>https://www.instagram.com/p/CnOpQ3uDtr5/</td>\n",
       "      <td>noniquennisa/reels/2023-01-10 17.00.18 3012526...</td>\n",
       "      <td>1</td>\n",
       "      <td>[There is rhythmic tapping in the background, ...</td>\n",
       "      <td>3</td>\n",
       "      <td>5</td>\n",
       "      <td>0.800000</td>\n",
       "    </tr>\n",
       "  </tbody>\n",
       "</table>\n",
       "</div>"
      ],
      "text/plain": [
       "        profile                                     videoURL  \\\n",
       "0  noniquennisa  https://www.instagram.com/reel/CnBxPwxDlG4/   \n",
       "1  noniquennisa  https://www.instagram.com/reel/CnEWAuGjhyg/   \n",
       "2  noniquennisa  https://www.instagram.com/reel/CnG7P4cjdmz/   \n",
       "3  noniquennisa  https://www.instagram.com/reel/CnMEacLjnko/   \n",
       "4  noniquennisa  https://www.instagram.com/reel/CnOpQ3uDtr5/   \n",
       "\n",
       "     video_posted_date  is_asmr    shortcode  \\\n",
       "0  2023-01-05 00:00:00        0  CnBxPwxDlG4   \n",
       "1  2023-01-06 00:00:00        0  CnEWAuGjhyg   \n",
       "2  2023-01-07 00:00:00        0  CnG7P4cjdmz   \n",
       "3  2023-01-09 00:00:00        1  CnMEacLjnko   \n",
       "4  2023-01-10 00:00:00        0  CnOpQ3uDtr5   \n",
       "\n",
       "                                    web_url  \\\n",
       "0  https://www.instagram.com/p/CnBxPwxDlG4/   \n",
       "1  https://www.instagram.com/p/CnEWAuGjhyg/   \n",
       "2  https://www.instagram.com/p/CnG7P4cjdmz/   \n",
       "3  https://www.instagram.com/p/CnMEacLjnko/   \n",
       "4  https://www.instagram.com/p/CnOpQ3uDtr5/   \n",
       "\n",
       "                                                file  found  \\\n",
       "0  noniquennisa/reels/2023-01-05 17.00.12 3008902...      1   \n",
       "1  noniquennisa/reels/2023-01-06 17.00.17 3009627...      1   \n",
       "2  noniquennisa/reels/2023-01-07 17.03.18 3010353...      1   \n",
       "3  noniquennisa/reels/2023-01-09 16.59.46 3011801...      1   \n",
       "4  noniquennisa/reels/2023-01-10 17.00.18 3012526...      1   \n",
       "\n",
       "                                            response  successes  attempts  \\\n",
       "0  [There is a 95% probability of rhythmic tappin...          3         3   \n",
       "1  [There is rhythmic tapping in the background, ...          3         3   \n",
       "2  [There is a 100% chance of rhythmic tapping or...          3         4   \n",
       "3  [There is rhythmic tapping in the background, ...          3         7   \n",
       "4  [There is rhythmic tapping in the background, ...          3         5   \n",
       "\n",
       "   pred_asmr  \n",
       "0   0.950000  \n",
       "1   0.636667  \n",
       "2   0.800000  \n",
       "3   0.933333  \n",
       "4   0.800000  "
      ]
     },
     "execution_count": 111,
     "metadata": {},
     "output_type": "execute_result"
    }
   ],
   "source": [
    "df2.info()\n",
    "df2.head()"
   ]
  },
  {
   "cell_type": "code",
   "execution_count": 133,
   "id": "05774a6b-7f94-40ff-810b-96b259907b53",
   "metadata": {},
   "outputs": [
    {
     "name": "stdout",
     "output_type": "stream",
     "text": [
      "Prevalence (original df): 0.2488\n",
      "Prevalence (analysis df): 0.2457\n",
      "Analyzed sample size: 411\n",
      "AUC: 0.5632 0.4976-0.6289\n",
      "Accuracy: 0.7518\n"
     ]
    }
   ],
   "source": [
    "#####\n",
    "# Data prep\n",
    "true_val = df2.is_asmr\n",
    "print(f\"Prevalence (original df): {np.mean(true_val):0.4f}\")\n",
    "predicted_val = df2.pred_asmr\n",
    "analysis_df = pd.concat([true_val, predicted_val], axis = 1)\n",
    "# Drop rows missing the predicted prob or the true label (hopefully none are missing the true label).\n",
    "analysis_df.dropna(inplace = True)\n",
    "\n",
    "\n",
    "#####\n",
    "# Analysis\n",
    "print(f\"Prevalence (analysis df): {np.mean(analysis_df['is_asmr'].values):0.4f}\")\n",
    "print(\"Analyzed sample size:\", analysis_df.shape[0])\n",
    "roc_result = sklearn.metrics.roc_auc_score(analysis_df['is_asmr'], analysis_df['pred_asmr'])\n",
    "auc_ci = roc_auc_ci(analysis_df['is_asmr'], analysis_df['pred_asmr'])\n",
    "print(f\"AUC: {roc_result:0.4f} {auc_ci[0]:0.4f}-{auc_ci[1]:0.4f}\")\n",
    "accuracy = np.mean((analysis_df['pred_asmr'] > 0.99).astype(int) == analysis_df['is_asmr'])\n",
    "print(f\"Accuracy: {accuracy:.4f}\")"
   ]
  },
  {
   "cell_type": "code",
   "execution_count": null,
   "id": "60b6f9b7-2507-4ba6-870e-9508964ef966",
   "metadata": {},
   "outputs": [],
   "source": []
  }
 ],
 "metadata": {
  "kernelspec": {
   "display_name": "Python [conda env:.conda-qwen-v2]",
   "language": "python",
   "name": "conda-env-.conda-qwen-v2-py"
  },
  "language_info": {
   "codemirror_mode": {
    "name": "ipython",
    "version": 3
   },
   "file_extension": ".py",
   "mimetype": "text/x-python",
   "name": "python",
   "nbconvert_exporter": "python",
   "pygments_lexer": "ipython3",
   "version": "3.10.14"
  }
 },
 "nbformat": 4,
 "nbformat_minor": 5
}
