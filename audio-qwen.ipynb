{
 "cells": [
  {
   "cell_type": "markdown",
   "id": "0f868a57-cbe4-4b14-83fb-9903b25bb1f1",
   "metadata": {},
   "source": [
    "# Qwen-Audio-Chat\n",
    "\n",
    "Following https://huggingface.co/Qwen/Qwen-Audio-Chat"
   ]
  },
  {
   "cell_type": "code",
   "execution_count": 1,
   "id": "f06e86d6-107e-47e0-9924-e3f775d593e1",
   "metadata": {},
   "outputs": [
    {
     "data": {
      "text/plain": [
       "<torch._C.Generator at 0x7ff20c6890d0>"
      ]
     },
     "execution_count": 1,
     "metadata": {},
     "output_type": "execute_result"
    }
   ],
   "source": [
    "from transformers import AutoModelForCausalLM, AutoTokenizer\n",
    "from transformers.generation import GenerationConfig\n",
    "import torch\n",
    "torch.manual_seed(1234)\n",
    "\n"
   ]
  },
  {
   "cell_type": "code",
   "execution_count": null,
   "id": "fbccba15-28d4-4fcc-878d-2d53911d69cb",
   "metadata": {},
   "outputs": [],
   "source": [
    "# Note: The default behavior now has injection attack prevention off.\n",
    "tokenizer = AutoTokenizer.from_pretrained(\"Qwen/Qwen-Audio-Chat\", trust_remote_code=True)\n",
    "\n",
    "# use bf16\n",
    "# model = AutoModelForCausalLM.from_pretrained(\"Qwen/Qwen-Audio-Chat\", device_map=\"auto\", trust_remote_code=True, bf16=True).eval()\n",
    "# use fp16\n",
    "# model = AutoModelForCausalLM.from_pretrained(\"Qwen/Qwen-Audio-Chat\", device_map=\"auto\", trust_remote_code=True, fp16=True).eval()\n",
    "# use cpu only\n",
    "# model = AutoModelForCausalLM.from_pretrained(\"Qwen/Qwen-Audio-Chat\", device_map=\"cpu\", trust_remote_code=True).eval()\n",
    "# use cuda device\n",
    "model = AutoModelForCausalLM.from_pretrained(\"Qwen/Qwen-Audio-Chat\", device_map=\"cuda\", trust_remote_code=True).eval()\n",
    "\n",
    "# Specify hyperparameters for generation (No need to do this if you are using transformers>4.32.0)\n",
    "# model.generation_config = GenerationConfig.from_pretrained(\"Qwen/Qwen-Audio-Chat\", trust_remote_code=True)"
   ]
  },
  {
   "cell_type": "markdown",
   "id": "93f8cbec-f24d-43bb-b127-9a626f9772aa",
   "metadata": {},
   "source": [
    "## Examples"
   ]
  },
  {
   "cell_type": "markdown",
   "id": "afcbddb4-deed-4bda-9a94-61c157202b89",
   "metadata": {},
   "source": [
    "## Our data"
   ]
  },
  {
   "cell_type": "code",
   "execution_count": 6,
   "id": "6d6a973b-c5a4-4d53-8a52-e7c44829c9e3",
   "metadata": {},
   "outputs": [
    {
     "name": "stdout",
     "output_type": "stream",
     "text": [
      "The person says in English: \"Masking X-pan Lush Ice\".\n"
     ]
    }
   ],
   "source": [
    "query = tokenizer.from_list_format([\n",
    "    {'audio': 'audio/fatalvapes_asmr_narration.mp4'}, # Either a local path or an url\n",
    "    {'text': 'what does the person say?'},\n",
    "])\n",
    "response, history = model.chat(tokenizer, query=query, history=None)\n",
    "print(response)"
   ]
  },
  {
   "cell_type": "code",
   "execution_count": 8,
   "id": "baeb1cee-7d0a-4448-ba4f-ff105ff7817f",
   "metadata": {},
   "outputs": [
    {
     "name": "stdout",
     "output_type": "stream",
     "text": [
      "gen:Yes, there is rhythmic tapping or noises in the background.\n"
     ]
    }
   ],
   "source": [
    "# 2nd dialogue turn\n",
    "response, history = model.chat(tokenizer, 'Is there rhythmic tapping or noises in the background?', history=history)\n",
    "print(response)"
   ]
  },
  {
   "cell_type": "code",
   "execution_count": 9,
   "id": "a15570a7-2367-4574-84e5-cc670412b405",
   "metadata": {},
   "outputs": [
    {
     "name": "stdout",
     "output_type": "stream",
     "text": [
      "gen: 100%\n"
     ]
    }
   ],
   "source": [
    "response, history = model.chat(tokenizer, 'Is there rhythmic tapping or noises in the background? Rate your certainty in a probability between 0% and 100%', history=history)\n",
    "print(response)"
   ]
  },
  {
   "cell_type": "code",
   "execution_count": null,
   "id": "d6e2f9d0-da93-4145-8e5d-58c252eb52f4",
   "metadata": {},
   "outputs": [],
   "source": []
  },
  {
   "cell_type": "code",
   "execution_count": null,
   "id": "489fd37e-ace8-4391-b79c-48b3fe9aca39",
   "metadata": {},
   "outputs": [],
   "source": []
  }
 ],
 "metadata": {
  "kernelspec": {
   "display_name": "Python [conda env:.conda-qwen-v2]",
   "language": "python",
   "name": "conda-env-.conda-qwen-v2-py"
  },
  "language_info": {
   "codemirror_mode": {
    "name": "ipython",
    "version": 3
   },
   "file_extension": ".py",
   "mimetype": "text/x-python",
   "name": "python",
   "nbconvert_exporter": "python",
   "pygments_lexer": "ipython3",
   "version": "3.10.14"
  }
 },
 "nbformat": 4,
 "nbformat_minor": 5
}
